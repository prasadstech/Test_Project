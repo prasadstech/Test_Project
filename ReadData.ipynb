{
 "cells": [
  {
   "cell_type": "code",
   "execution_count": 1,
   "id": "3481cea0",
   "metadata": {},
   "outputs": [],
   "source": [
    "try:\n",
    "    from google.cloud import storage\n",
    "    import google.cloud.storage\n",
    "    import json\n",
    "    import os\n",
    "    import sys\n",
    "except Exception as e:\n",
    "    print(\"Error : {} \".format(e))"
   ]
  },
  {
   "cell_type": "code",
   "execution_count": 2,
   "id": "68703dc2",
   "metadata": {},
   "outputs": [],
   "source": [
    "PATH = os.path.join(os.getcwd() , 'cr.json')\n",
    "os.environ['GOOGLE_APPLICATION_CREDENTIALS'] = PATH"
   ]
  },
  {
   "cell_type": "code",
   "execution_count": 3,
   "id": "81eb72bd",
   "metadata": {},
   "outputs": [],
   "source": [
    "storage_client = storage.Client(PATH)"
   ]
  },
  {
   "cell_type": "code",
   "execution_count": 4,
   "id": "d3fc65bb",
   "metadata": {},
   "outputs": [
    {
     "data": {
      "text/plain": [
       "<google.cloud.storage.client.Client at 0x10779ebe0>"
      ]
     },
     "execution_count": 4,
     "metadata": {},
     "output_type": "execute_result"
    }
   ],
   "source": [
    "storage_client"
   ]
  },
  {
   "cell_type": "code",
   "execution_count": 5,
   "id": "b4422cb6",
   "metadata": {},
   "outputs": [],
   "source": [
    "bucket = storage_client.get_bucket('prasad_read_data')"
   ]
  },
  {
   "cell_type": "code",
   "execution_count": 6,
   "id": "56376f83",
   "metadata": {},
   "outputs": [
    {
     "name": "stdout",
     "output_type": "stream",
     "text": [
      "<class 'list'>\n"
     ]
    },
    {
     "data": {
      "text/plain": [
       "['MyFolder/',\n",
       " 'addresses.csv',\n",
       " 'catboost_model/',\n",
       " 'output/',\n",
       " 's1.jpeg',\n",
       " 's2.jpeg',\n",
       " 's3.jpeg',\n",
       " 'train_data/']"
      ]
     },
     "execution_count": 6,
     "metadata": {},
     "output_type": "execute_result"
    }
   ],
   "source": [
    "filename = [filename.name for filename in list(bucket.list_blobs(prefix='')) ]\n",
    "print(type(filename))\n",
    "filename\n",
    "# blobs_specific = list(bucket.list_blobs(prefix='MyFolder/'))\n",
    "# print(blobs_specific)"
   ]
  },
  {
   "cell_type": "code",
   "execution_count": 7,
   "id": "a5ec8a2f",
   "metadata": {},
   "outputs": [],
   "source": [
    "# Download file from bucket"
   ]
  },
  {
   "cell_type": "code",
   "execution_count": 8,
   "id": "67eba74f",
   "metadata": {},
   "outputs": [],
   "source": [
    "dw = bucket.blob(blob_name = 'addresses.csv').download_as_string()"
   ]
  },
  {
   "cell_type": "code",
   "execution_count": 9,
   "id": "eb81b27c",
   "metadata": {},
   "outputs": [],
   "source": [
    "with open ('down.csv', \"wb\") as f:\n",
    "        f.write(dw)"
   ]
  },
  {
   "cell_type": "code",
   "execution_count": 10,
   "id": "e6e7e9a2",
   "metadata": {},
   "outputs": [],
   "source": [
    "# Add file to bucket (PUT)"
   ]
  },
  {
   "cell_type": "code",
   "execution_count": 11,
   "id": "8b0ad0ff",
   "metadata": {},
   "outputs": [],
   "source": [
    "fn= 'down.csv'"
   ]
  },
  {
   "cell_type": "code",
   "execution_count": 12,
   "id": "851a8986",
   "metadata": {},
   "outputs": [],
   "source": [
    "FILE_UPLOAD = os.path.join(os.getcwd(), fn)"
   ]
  },
  {
   "cell_type": "code",
   "execution_count": 13,
   "id": "a8cf50d4",
   "metadata": {},
   "outputs": [],
   "source": [
    "bucket = storage_client.get_bucket('prasad_read_data')\n",
    "af = bucket.blob(fn)\n",
    "af.upload_from_filename(FILE_UPLOAD)"
   ]
  },
  {
   "cell_type": "code",
   "execution_count": 14,
   "id": "a5049ba4",
   "metadata": {},
   "outputs": [],
   "source": [
    "# Read csv from the bucket"
   ]
  },
  {
   "cell_type": "code",
   "execution_count": 15,
   "id": "e5d6bd7c",
   "metadata": {},
   "outputs": [],
   "source": [
    "import pandas as pd \n",
    "import io\n",
    "from io import BytesIO"
   ]
  },
  {
   "cell_type": "code",
   "execution_count": 16,
   "id": "be39c0fa",
   "metadata": {},
   "outputs": [],
   "source": [
    "df = pd.read_csv(\n",
    "    io.BytesIO(\n",
    "                 bucket.blob(blob_name = 'addresses.csv').download_as_string() \n",
    "              ) ,\n",
    "                 encoding='UTF-8',\n",
    "                 sep=',')"
   ]
  },
  {
   "cell_type": "code",
   "execution_count": 17,
   "id": "57dfb693",
   "metadata": {},
   "outputs": [
    {
     "data": {
      "text/html": [
       "<div>\n",
       "<style scoped>\n",
       "    .dataframe tbody tr th:only-of-type {\n",
       "        vertical-align: middle;\n",
       "    }\n",
       "\n",
       "    .dataframe tbody tr th {\n",
       "        vertical-align: top;\n",
       "    }\n",
       "\n",
       "    .dataframe thead th {\n",
       "        text-align: right;\n",
       "    }\n",
       "</style>\n",
       "<table border=\"1\" class=\"dataframe\">\n",
       "  <thead>\n",
       "    <tr style=\"text-align: right;\">\n",
       "      <th></th>\n",
       "      <th>John</th>\n",
       "      <th>Doe</th>\n",
       "      <th>120 jefferson st.</th>\n",
       "      <th>Riverside</th>\n",
       "      <th>NJ</th>\n",
       "      <th>08075</th>\n",
       "    </tr>\n",
       "  </thead>\n",
       "  <tbody>\n",
       "    <tr>\n",
       "      <th>0</th>\n",
       "      <td>Jack</td>\n",
       "      <td>McGinnis</td>\n",
       "      <td>220 hobo Av.</td>\n",
       "      <td>Phila</td>\n",
       "      <td>PA</td>\n",
       "      <td>9119</td>\n",
       "    </tr>\n",
       "  </tbody>\n",
       "</table>\n",
       "</div>"
      ],
      "text/plain": [
       "   John       Doe 120 jefferson st. Riverside   NJ   08075\n",
       "0  Jack  McGinnis      220 hobo Av.     Phila   PA    9119"
      ]
     },
     "execution_count": 17,
     "metadata": {},
     "output_type": "execute_result"
    }
   ],
   "source": [
    "df.head(1)"
   ]
  },
  {
   "cell_type": "code",
   "execution_count": 18,
   "id": "c2bb4862",
   "metadata": {},
   "outputs": [],
   "source": [
    "# Delete file from bucket"
   ]
  },
  {
   "cell_type": "code",
   "execution_count": 19,
   "id": "477c74de",
   "metadata": {},
   "outputs": [
    {
     "data": {
      "text/plain": [
       "['MyFolder/',\n",
       " 'addresses.csv',\n",
       " 'catboost_model/',\n",
       " 'down.csv',\n",
       " 'output/',\n",
       " 's1.jpeg',\n",
       " 's2.jpeg',\n",
       " 's3.jpeg',\n",
       " 'train_data/']"
      ]
     },
     "execution_count": 19,
     "metadata": {},
     "output_type": "execute_result"
    }
   ],
   "source": [
    "fn = [filename.name for filename in list(bucket.list_blobs(prefix=''))]\n",
    "fn"
   ]
  },
  {
   "cell_type": "code",
   "execution_count": 20,
   "id": "f950c6a6",
   "metadata": {},
   "outputs": [],
   "source": [
    "FILE_DELETE = 'down.csv'"
   ]
  },
  {
   "cell_type": "code",
   "execution_count": 21,
   "id": "94a4148a",
   "metadata": {},
   "outputs": [],
   "source": [
    "bucket = storage_client.get_bucket('prasad_read_data')\n",
    "fd = bucket.blob(FILE_DELETE)"
   ]
  },
  {
   "cell_type": "code",
   "execution_count": 22,
   "id": "b7f12f91",
   "metadata": {},
   "outputs": [],
   "source": [
    "fd.delete()"
   ]
  },
  {
   "cell_type": "code",
   "execution_count": 23,
   "id": "11236add",
   "metadata": {},
   "outputs": [
    {
     "data": {
      "text/plain": [
       "['MyFolder/',\n",
       " 'addresses.csv',\n",
       " 'catboost_model/',\n",
       " 'output/',\n",
       " 's1.jpeg',\n",
       " 's2.jpeg',\n",
       " 's3.jpeg',\n",
       " 'train_data/']"
      ]
     },
     "execution_count": 23,
     "metadata": {},
     "output_type": "execute_result"
    }
   ],
   "source": [
    "fn = [filename.name for filename in list(bucket.list_blobs(prefix='')) ]\n",
    "fn"
   ]
  },
  {
   "cell_type": "code",
   "execution_count": null,
   "id": "d8e492f4",
   "metadata": {},
   "outputs": [],
   "source": []
  }
 ],
 "metadata": {
  "kernelspec": {
   "display_name": "Python 3 (ipykernel)",
   "language": "python",
   "name": "python3"
  },
  "language_info": {
   "codemirror_mode": {
    "name": "ipython",
    "version": 3
   },
   "file_extension": ".py",
   "mimetype": "text/x-python",
   "name": "python",
   "nbconvert_exporter": "python",
   "pygments_lexer": "ipython3",
   "version": "3.9.10"
  }
 },
 "nbformat": 4,
 "nbformat_minor": 5
}
